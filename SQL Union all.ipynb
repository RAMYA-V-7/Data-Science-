{
 "cells": [
  {
   "cell_type": "code",
   "execution_count": 0,
   "metadata": {
    "application/vnd.databricks.v1+cell": {
     "cellMetadata": {
      "byteLimit": 2048000,
      "implicitDf": true,
      "rowLimit": 10000
     },
     "inputWidgets": {},
     "nuid": "56e9e42f-e897-4835-9ef1-4f7a3abe2a9e",
     "showTitle": false,
     "tableResultSettingsMap": {},
     "title": ""
    }
   },
   "outputs": [],
   "source": [
    "%sql\n",
    "/*\n",
    "Q1. Students & Subjects\n",
    "\n",
    "Table: Marks   added\n",
    "\n",
    "+------------+--------+--------+--------+\n",
    "| student_id | math   | physics| chemistry |\n",
    "+------------+--------+--------+-----------+\n",
    "| 1          | 90     | 85     | 88        |\n",
    "| 2          | 76     | NULL   | 80        |\n",
    "| 3          | 89     | 92     | NULL      |\n",
    "+------------+--------+--------+-----------+\n",
    "\n",
    "Rearrange the Marks table so that each row has (student_id, subject, marks).\n",
    "Do not include rows where marks are NULL.\n",
    "Order the output by student_id, subject.\n",
    "\n",
    "Expected Output:\n",
    "\n",
    "+------------+-----------+-------+\n",
    "| student_id | subject   | marks |\n",
    "+------------+-----------+-------+\n",
    "| 1          | math      | 90    |\n",
    "| 1          | physics   | 85    |\n",
    "| 1          | chemistry | 88    |\n",
    "| 2          | math      | 76    |\n",
    "| 2          | chemistry | 80    |\n",
    "| 3          | math      | 89    |\n",
    "| 3          | physics   | 92    |\n",
    "+------------+-----------+-------+*/\n",
    "\n",
    "\n",
    "select student_id, 'math' as subject, math as marks \n",
    "from marks \n",
    "where math is not null\n",
    "union all\n",
    "select student_id , 'physics' as subject, physics as marks \n",
    "from marks where physics is not null\n",
    "union all\n",
    "select student_id , 'chemistry' as subject , chemistry as marks\n",
    "from marks where chemistry is not null\n",
    "order by student_id;"
   ]
  },
  {
   "cell_type": "code",
   "execution_count": 0,
   "metadata": {
    "application/vnd.databricks.v1+cell": {
     "cellMetadata": {},
     "inputWidgets": {},
     "nuid": "e635c45e-8a89-44a1-99f4-be1aa403df27",
     "showTitle": false,
     "tableResultSettingsMap": {},
     "title": ""
    }
   },
   "outputs": [],
   "source": [
    "%sql\n",
    "/*Union all / Unpivot - convert a wide table to long table*/"
   ]
  }
 ],
 "metadata": {
  "application/vnd.databricks.v1+notebook": {
   "computePreferences": null,
   "dashboards": [],
   "environmentMetadata": {
    "base_environment": "",
    "environment_version": "2"
   },
   "inputWidgetPreferences": null,
   "language": "python",
   "notebookMetadata": {
    "mostRecentlyExecutedCommandWithImplicitDF": {
     "commandId": 5869955225217796,
     "dataframes": [
      "_sqldf"
     ]
    },
    "pythonIndentUnit": 4
   },
   "notebookName": "SQL Union all",
   "widgets": {}
  },
  "language_info": {
   "name": "python"
  }
 },
 "nbformat": 4,
 "nbformat_minor": 0
}
