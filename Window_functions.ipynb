{
 "cells": [
  {
   "cell_type": "code",
   "execution_count": 0,
   "metadata": {
    "application/vnd.databricks.v1+cell": {
     "cellMetadata": {
      "byteLimit": 2048000,
      "implicitDf": true,
      "rowLimit": 10000
     },
     "inputWidgets": {},
     "nuid": "05b23f8a-dff9-4bfc-ba25-7e31cd92cbbc",
     "showTitle": false,
     "tableResultSettingsMap": {},
     "title": ""
    }
   },
   "outputs": [],
   "source": [
    "%sql\n",
    "--  1: Ranking window functions (ROW_NUMBER, RANK, DENSE_RANK) \n",
    "-- Drop if already exists (to avoid conflicts when re-running)ADD\n",
    "DROP TABLE IF EXISTS Scores;\n",
    "\n",
    "-- Create table\n",
    "CREATE TABLE Scores (\n",
    "    id INT,\n",
    "    score DECIMAL(4,2)\n",
    ");\n",
    "\n",
    "-- Insert sample data\n",
    "INSERT INTO Scores (id, score) VALUES\n",
    "(1, 3.50),\n",
    "(2, 3.65),\n",
    "(3, 4.00),\n",
    "(4, 3.85),\n",
    "(5, 4.00);\n",
    "\n",
    "select * from scores;"
   ]
  },
  {
   "cell_type": "code",
   "execution_count": 0,
   "metadata": {
    "application/vnd.databricks.v1+cell": {
     "cellMetadata": {
      "byteLimit": 2048000,
      "implicitDf": true,
      "rowLimit": 10000
     },
     "inputWidgets": {},
     "nuid": "99e1716e-5927-442d-9b1d-3a50ace02c57",
     "showTitle": false,
     "tableResultSettingsMap": {},
     "title": ""
    }
   },
   "outputs": [],
   "source": [
    "%sql\n",
    "select id , score , \n",
    "row_number() over(order by score desc) as row_number\n",
    "from Scores;"
   ]
  },
  {
   "cell_type": "code",
   "execution_count": 0,
   "metadata": {
    "application/vnd.databricks.v1+cell": {
     "cellMetadata": {
      "byteLimit": 2048000,
      "implicitDf": true,
      "rowLimit": 10000
     },
     "inputWidgets": {},
     "nuid": "a658e78e-3896-4ad2-a84c-3fefb21d9526",
     "showTitle": false,
     "tableResultSettingsMap": {},
     "title": ""
    }
   },
   "outputs": [],
   "source": [
    "%sql\n",
    "-- get the top 3 scores (using ROW_NUMBER()) - using CTE .\n",
    "with ranked as(\n",
    "    select id , score ,\n",
    "    row_number() over(order by score desc) as row_num ,\n",
    "    rank() over(order by score desc) as rank ,\n",
    "    dense_rank() over(order by score desc) as dense\n",
    "    from scores\n",
    ")\n",
    "select * from ranked\n",
    "where row_num<=3;\n"
   ]
  },
  {
   "cell_type": "code",
   "execution_count": 0,
   "metadata": {
    "application/vnd.databricks.v1+cell": {
     "cellMetadata": {},
     "inputWidgets": {},
     "nuid": "0d9131c1-b1a2-4864-8b9d-c1f471f22a70",
     "showTitle": false,
     "tableResultSettingsMap": {},
     "title": ""
    }
   },
   "outputs": [],
   "source": []
  }
 ],
 "metadata": {
  "application/vnd.databricks.v1+notebook": {
   "computePreferences": null,
   "dashboards": [],
   "environmentMetadata": {
    "base_environment": "",
    "environment_version": "2"
   },
   "inputWidgetPreferences": null,
   "language": "python",
   "notebookMetadata": {
    "mostRecentlyExecutedCommandWithImplicitDF": {
     "commandId": 6476020362953555,
     "dataframes": [
      "_sqldf"
     ]
    },
    "pythonIndentUnit": 4
   },
   "notebookName": "Window_functions",
   "widgets": {}
  },
  "language_info": {
   "name": "python"
  }
 },
 "nbformat": 4,
 "nbformat_minor": 0
}
